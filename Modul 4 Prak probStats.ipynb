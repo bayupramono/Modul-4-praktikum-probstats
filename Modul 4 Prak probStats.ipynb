{
 "cells": [
  {
   "cell_type": "code",
   "execution_count": 1,
   "id": "6f59ad97",
   "metadata": {},
   "outputs": [
    {
     "name": "stdout",
     "output_type": "stream",
     "text": [
      "Probabilitas P(X=k) untuk distribusi binomial: 0.1171875\n"
     ]
    }
   ],
   "source": [
    "import math \n",
    "# Fungsi untuk menghitung kombinasi (n choose k) \n",
    "def n_choose_k(n, k): \n",
    "    return math.factorial(n) / (math.factorial(k) * math.factorial(n - k)) \n",
    "\n",
    "# Fungsi untuk menghitung probabilitas P(X=k) dalam distribusi binomial \n",
    "def binomial_probability(n, k, p): \n",
    "    return n_choose_k(n, k) * (p ** k) * ((1 - p) ** (n - k)) \n",
    "# Parameter distribusi binomial \n",
    "n = 10 # jumlah percobaan \n",
    "p = 0.5 # probabilitas keberhasilan dalam satu percobaan \n",
    "k = 3 # jumlah keberhasilan yang diinginkan \n",
    "\n",
    "# Menghitung probabilitas P(X=k) untuk distribusi binomial \n",
    "prob_binomial = binomial_probability(n, k, p) \n",
    "print(\"Probabilitas P(X=k) untuk distribusi binomial:\", prob_binomial) "
   ]
  },
  {
   "cell_type": "code",
   "execution_count": 2,
   "id": "9c4ecb67",
   "metadata": {},
   "outputs": [
    {
     "name": "stdout",
     "output_type": "stream",
     "text": [
      "Probabilitas P(X=k) untuk distribusi binominal: 0.1171875\n"
     ]
    }
   ],
   "source": [
    "from scipy.stats import binom\n",
    " \n",
    "# Distribusi Binominal    \n",
    "n = 10 # jumlah percobaan\n",
    "p = 0.5 # rpobabilitas keberhasilan dalam satu percobaan\n",
    "k = 3 # jumlah keberhasilan yang diinginkan\n",
    "\n",
    "prob_binominal = binom.pmf(k, n, p)\n",
    "print(\"Probabilitas P(X=k) untuk distribusi binominal:\", prob_binominal)"
   ]
  },
  {
   "cell_type": "code",
   "execution_count": 3,
   "id": "7ff79067",
   "metadata": {},
   "outputs": [
    {
     "name": "stdout",
     "output_type": "stream",
     "text": [
      "Probabilitas P(X=k) untuk distribusi Poisson: 0.22404180765538775\n"
     ]
    }
   ],
   "source": [
    "import math\n",
    "\n",
    "# Fungsi untuk menghitung probabilitas P(X=k) dalam distribusi Poisson\n",
    "def poisson_probability(lambd, k):\n",
    "    return (lambd ** k) * math.exp(-lambd) / math.factorial(k)\n",
    "\n",
    "# Parameter distribusi Poisson\n",
    "lambd = 3  # rata-rata jumlah peristiwa dalam interval waktu/titik\n",
    "k = 2  # jumlah peristiwa yang diinginkan\n",
    "\n",
    "# Menghitung probabilitas P(X=k) untuk distribusi Poisson\n",
    "prob_poisson = poisson_probability(lambd, k)\n",
    "print(\"Probabilitas P(X=k) untuk distribusi Poisson:\", prob_poisson)"
   ]
  },
  {
   "cell_type": "code",
   "execution_count": 4,
   "id": "ff5917af",
   "metadata": {},
   "outputs": [
    {
     "name": "stdout",
     "output_type": "stream",
     "text": [
      "probabilitas P(X=k) untuk distribusi poisson:, prob_poisson\n"
     ]
    }
   ],
   "source": [
    "from scipy.stats import poisson\n",
    "\n",
    "lambd = 3\n",
    "k = 2\n",
    "\n",
    "prob_poisson = poisson.pmf(k, lambd)\n",
    "print(\"probabilitas P(X=k) untuk distribusi poisson:, prob_poisson\")"
   ]
  },
  {
   "cell_type": "code",
   "execution_count": 5,
   "id": "e5e24ba3",
   "metadata": {},
   "outputs": [
    {
     "name": "stdout",
     "output_type": "stream",
     "text": [
      "0.1285054390988551\n"
     ]
    }
   ],
   "source": [
    "from scipy import stats\n",
    "X = stats.binom(15, 0.1)\n",
    "print(X.pmf(3))"
   ]
  },
  {
   "cell_type": "code",
   "execution_count": 6,
   "id": "5ef1753c",
   "metadata": {},
   "outputs": [
    {
     "name": "stdout",
     "output_type": "stream",
     "text": [
      "0.8159389308936089\n"
     ]
    }
   ],
   "source": [
    "print(X.cdf(2))"
   ]
  },
  {
   "cell_type": "code",
   "execution_count": 7,
   "id": "1a31ea41",
   "metadata": {},
   "outputs": [
    {
     "name": "stdout",
     "output_type": "stream",
     "text": [
      "0.002216045197080002\n"
     ]
    }
   ],
   "source": [
    "print(X.pmf(6)+X.pmf(7))"
   ]
  },
  {
   "cell_type": "code",
   "execution_count": 8,
   "id": "5784a001",
   "metadata": {},
   "outputs": [
    {
     "name": "stdout",
     "output_type": "stream",
     "text": [
      "0.17546736976785063\n"
     ]
    }
   ],
   "source": [
    "from scipy import stats\n",
    "Y = stats.poisson(5)\n",
    "print(Y.pmf(4))"
   ]
  },
  {
   "cell_type": "code",
   "execution_count": 9,
   "id": "46af27c5",
   "metadata": {},
   "outputs": [
    {
     "name": "stdout",
     "output_type": "stream",
     "text": [
      "0.17886305056987967\n"
     ]
    }
   ],
   "source": [
    "from scipy import stats\n",
    "\n",
    "X = stats.binom(20, 0.7)\n",
    "\n",
    "pmf_15 = X.pmf(15)\n",
    "\n",
    "print(pmf_15)"
   ]
  },
  {
   "cell_type": "code",
   "execution_count": 10,
   "id": "2ffe9c56",
   "metadata": {},
   "outputs": [
    {
     "name": "stdout",
     "output_type": "stream",
     "text": [
      "0.18044704431548356\n"
     ]
    }
   ],
   "source": [
    "from scipy import stats \n",
    "Y = stats.poisson(2)\n",
    "print(Y.pmf(3))"
   ]
  },
  {
   "cell_type": "code",
   "execution_count": null,
   "id": "59cbecfd",
   "metadata": {},
   "outputs": [],
   "source": []
  }
 ],
 "metadata": {
  "kernelspec": {
   "display_name": "Python 3 (ipykernel)",
   "language": "python",
   "name": "python3"
  },
  "language_info": {
   "codemirror_mode": {
    "name": "ipython",
    "version": 3
   },
   "file_extension": ".py",
   "mimetype": "text/x-python",
   "name": "python",
   "nbconvert_exporter": "python",
   "pygments_lexer": "ipython3",
   "version": "3.11.4"
  }
 },
 "nbformat": 4,
 "nbformat_minor": 5
}
